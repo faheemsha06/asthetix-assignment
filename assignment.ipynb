{
  "nbformat": 4,
  "nbformat_minor": 0,
  "metadata": {
    "colab": {
      "provenance": []
    },
    "kernelspec": {
      "name": "python3",
      "display_name": "Python 3"
    },
    "language_info": {
      "name": "python"
    }
  },
  "cells": [
    {
      "cell_type": "markdown",
      "source": [
        "largest of two numbers"
      ],
      "metadata": {
        "id": "BCAs3Kjag2JR"
      }
    },
    {
      "cell_type": "code",
      "execution_count": 1,
      "metadata": {
        "colab": {
          "base_uri": "https://localhost:8080/"
        },
        "id": "hqt97OMFc9Iv",
        "outputId": "e8b94879-aec7-4f83-afc3-ef879750c385"
      },
      "outputs": [
        {
          "output_type": "stream",
          "name": "stdout",
          "text": [
            "Enter a two digit number: 45\n",
            "5\n"
          ]
        }
      ],
      "source": [
        "a=str(input(\"Enter a two digit number: \"))\n",
        "if a[0]>a[1]:\n",
        "  print(a[0])\n",
        "else:\n",
        "  print(a[1])"
      ]
    },
    {
      "cell_type": "markdown",
      "source": [
        "amstrong number"
      ],
      "metadata": {
        "id": "wPS2nIuUgz8_"
      }
    },
    {
      "cell_type": "code",
      "source": [
        "number = int(input(\"Enter a number: \"))\n",
        "\n",
        "\n",
        "x = str(number)\n",
        "\n",
        "\n",
        "y = len(x)\n",
        "\n",
        "\n",
        "sum_of_digits = 0\n",
        "\n",
        "\n",
        "for digit in x:\n",
        "    digit_int = int(digit)\n",
        "    sum_of_digits += digit_int ** y\n",
        "\n",
        "if number == sum_of_digits:\n",
        "    print(number, \"is an Armstrong number.\")\n",
        "else:\n",
        "    print(number, \"is not an Armstrong number.\")"
      ],
      "metadata": {
        "colab": {
          "base_uri": "https://localhost:8080/"
        },
        "id": "U4ylrkM8dILl",
        "outputId": "73d19b6b-1a96-4781-ea84-fa32048c88ab"
      },
      "execution_count": 2,
      "outputs": [
        {
          "output_type": "stream",
          "name": "stdout",
          "text": [
            "Enter a number: 67\n",
            "67 is not an Armstrong number.\n"
          ]
        }
      ]
    },
    {
      "cell_type": "markdown",
      "source": [
        "sum of squares between numbers"
      ],
      "metadata": {
        "id": "XD4a74c2hSfn"
      }
    },
    {
      "cell_type": "code",
      "source": [
        "def sum_of_squares(start, end):\n",
        "    total = 0\n",
        "    for num in range(start, end + 1):\n",
        "        total += num ** 2\n",
        "    return total\n",
        "start_num = int(input(\"Enter the start number: \"))\n",
        "end_num = int(input(\"Enter the end number:\"))\n",
        "result = sum_of_squares(start_num, end_num)\n",
        "print(f\"The sum of squares between {start_num} and {end_num} is: {result}\")"
      ],
      "metadata": {
        "colab": {
          "base_uri": "https://localhost:8080/"
        },
        "id": "p7-x-0Add5Zy",
        "outputId": "729dbd41-a696-4834-d38f-e491ca506738"
      },
      "execution_count": 3,
      "outputs": [
        {
          "output_type": "stream",
          "name": "stdout",
          "text": [
            "Enter the start number: 67\n",
            "Enter the end number:45\n",
            "The sum of squares between 67 and 45 is: 0\n"
          ]
        }
      ]
    },
    {
      "cell_type": "markdown",
      "source": [
        "largest among three numbers"
      ],
      "metadata": {
        "id": "PuwD6WXmhbcw"
      }
    },
    {
      "cell_type": "code",
      "source": [
        "a=int(input(\"Enter a number: \"))\n",
        "b=int(input(\"Enter a number: \"))\n",
        "c=int(input(\"Enter a number: \"))\n",
        "if a<b<c:\n",
        "  print(a)\n",
        "elif b<a<c:\n",
        "  print(b)\n",
        "else:\n",
        "  print(c)"
      ],
      "metadata": {
        "colab": {
          "base_uri": "https://localhost:8080/"
        },
        "id": "GrX9xfbBd4-R",
        "outputId": "91639cde-ee3d-48f2-89d4-a7477ea359b0"
      },
      "execution_count": 4,
      "outputs": [
        {
          "output_type": "stream",
          "name": "stdout",
          "text": [
            "Enter a number: 3\n",
            "Enter a number: 5\n",
            "Enter a number: 7\n",
            "3\n"
          ]
        }
      ]
    },
    {
      "cell_type": "markdown",
      "source": [
        "swapping"
      ],
      "metadata": {
        "id": "E-g2ThAfhe2I"
      }
    },
    {
      "cell_type": "code",
      "source": [
        "num1=int(input(\"ENTER 1ST NUMBER\"))\n",
        "num2=int(input(\"ENTER 2ND NUMBER\"))\n",
        "c=num1\n",
        "num1=num2\n",
        "num2=c\n",
        "print(num1)\n",
        "print(num2)"
      ],
      "metadata": {
        "colab": {
          "base_uri": "https://localhost:8080/"
        },
        "id": "2Liv2c3Qd4cW",
        "outputId": "f0b75065-1df0-48f5-8330-e1a019ffddd1"
      },
      "execution_count": 5,
      "outputs": [
        {
          "output_type": "stream",
          "name": "stdout",
          "text": [
            "ENTER 1ST NUMBER34\n",
            "ENTER 2ND NUMBER36\n",
            "36\n",
            "34\n"
          ]
        }
      ]
    },
    {
      "cell_type": "markdown",
      "source": [
        "fabanocci series"
      ],
      "metadata": {
        "id": "nLX9qnMQid0k"
      }
    },
    {
      "cell_type": "code",
      "source": [
        "def generate_fibonacci_series(n):\n",
        "    fibonacci_series = []\n",
        "    a, b = 0, 1\n",
        "\n",
        "    for _ in range(n):\n",
        "        fibonacci_series.append(a)\n",
        "        a, b = b, a + b\n",
        "\n",
        "    return fibonacci_series\n",
        "\n",
        "n = int(input(\"Enter the number of terms for the Fibonacci series: \"))\n",
        "\n",
        "if n <= 0:\n",
        "    print(\"Please enter a positive integer.\")\n",
        "else:\n",
        "    result = generate_fibonacci_series(n)\n",
        "    print(\"Fibonacci series:\")\n",
        "    print(result)"
      ],
      "metadata": {
        "id": "hVsBFOueiby6"
      },
      "execution_count": null,
      "outputs": []
    },
    {
      "cell_type": "markdown",
      "source": [
        "reverse a number"
      ],
      "metadata": {
        "id": "lK4GaZS7jcny"
      }
    },
    {
      "cell_type": "code",
      "source": [
        "def reverse_number(number):\n",
        "    reversed_number = 0\n",
        "    while number > 0:\n",
        "\n",
        "        last_digit = number % 10\n",
        "\n",
        "        reversed_number = reversed_number * 10 + last_digit\n",
        "\n",
        "        number = number // 10\n",
        "    return reversed_number\n",
        "\n",
        "\n",
        "number = int(input(\"Enter a number: \"))\n",
        "\n",
        "\n",
        "reversed = reverse_number(number)\n",
        "\n",
        "\n",
        "print(\"Reversed number:\", reversed)"
      ],
      "metadata": {
        "colab": {
          "base_uri": "https://localhost:8080/"
        },
        "id": "7VrwL60YjGe-",
        "outputId": "e8dd0d19-9dc1-4245-c887-c25900699b21"
      },
      "execution_count": 6,
      "outputs": [
        {
          "output_type": "stream",
          "name": "stdout",
          "text": [
            "Enter a number: 564\n",
            "Reversed number: 465\n"
          ]
        }
      ]
    }
  ]
}